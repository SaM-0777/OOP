{
  "nbformat": 4,
  "nbformat_minor": 0,
  "metadata": {
    "colab": {
      "name": "OOP-Python-Quiz2.ipynb",
      "provenance": [],
      "collapsed_sections": [],
      "include_colab_link": true
    },
    "kernelspec": {
      "name": "python3",
      "display_name": "Python 3"
    },
    "language_info": {
      "name": "python"
    }
  },
  "cells": [
    {
      "cell_type": "markdown",
      "metadata": {
        "id": "view-in-github",
        "colab_type": "text"
      },
      "source": [
        "<a href=\"https://colab.research.google.com/github/Soumyaranjan2021/OOP/blob/main/OOP_Python_Quiz2.ipynb\" target=\"_parent\"><img src=\"https://colab.research.google.com/assets/colab-badge.svg\" alt=\"Open In Colab\"/></a>"
      ]
    },
    {
      "cell_type": "code",
      "metadata": {
        "id": "YFkFcqAJvzWn"
      },
      "source": [
        ""
      ],
      "execution_count": null,
      "outputs": []
    },
    {
      "cell_type": "markdown",
      "metadata": {
        "id": "NQsdHzA2vz8T"
      },
      "source": [
        ""
      ]
    },
    {
      "cell_type": "code",
      "metadata": {
        "colab": {
          "base_uri": "https://localhost:8080/",
          "height": 347
        },
        "id": "NULJdqE0v0xh",
        "outputId": "f0a2390e-1c49-44ed-d529-02d0540ccae1"
      },
      "source": [
        "#1. what is Static Variable?\n",
        "\n",
        "class Duck:\n",
        "    animal = TRUE\n",
        "    def __init__(self):\n",
        "        self.animal_group = 'Bird'\n",
        "        self.sound = 'Quack!'\n",
        "        self.legs = 2"
      ],
      "execution_count": null,
      "outputs": [
        {
          "output_type": "error",
          "ename": "NameError",
          "evalue": "ignored",
          "traceback": [
            "\u001b[0;31m---------------------------------------------------------------------------\u001b[0m",
            "\u001b[0;31mNameError\u001b[0m                                 Traceback (most recent call last)",
            "\u001b[0;32m<ipython-input-13-d1fbd6655d20>\u001b[0m in \u001b[0;36m<module>\u001b[0;34m()\u001b[0m\n\u001b[1;32m      1\u001b[0m \u001b[0;31m#1. what is Static Variable?\u001b[0m\u001b[0;34m\u001b[0m\u001b[0;34m\u001b[0m\u001b[0;34m\u001b[0m\u001b[0m\n\u001b[1;32m      2\u001b[0m \u001b[0;34m\u001b[0m\u001b[0m\n\u001b[0;32m----> 3\u001b[0;31m \u001b[0;32mclass\u001b[0m \u001b[0mDuck\u001b[0m\u001b[0;34m:\u001b[0m\u001b[0;34m\u001b[0m\u001b[0;34m\u001b[0m\u001b[0m\n\u001b[0m\u001b[1;32m      4\u001b[0m     \u001b[0manimal\u001b[0m \u001b[0;34m=\u001b[0m \u001b[0mTRUE\u001b[0m\u001b[0;34m\u001b[0m\u001b[0;34m\u001b[0m\u001b[0m\n\u001b[1;32m      5\u001b[0m     \u001b[0;32mdef\u001b[0m \u001b[0m__init__\u001b[0m\u001b[0;34m(\u001b[0m\u001b[0mself\u001b[0m\u001b[0;34m)\u001b[0m\u001b[0;34m:\u001b[0m\u001b[0;34m\u001b[0m\u001b[0;34m\u001b[0m\u001b[0m\n",
            "\u001b[0;32m<ipython-input-13-d1fbd6655d20>\u001b[0m in \u001b[0;36mDuck\u001b[0;34m()\u001b[0m\n\u001b[1;32m      2\u001b[0m \u001b[0;34m\u001b[0m\u001b[0m\n\u001b[1;32m      3\u001b[0m \u001b[0;32mclass\u001b[0m \u001b[0mDuck\u001b[0m\u001b[0;34m:\u001b[0m\u001b[0;34m\u001b[0m\u001b[0;34m\u001b[0m\u001b[0m\n\u001b[0;32m----> 4\u001b[0;31m     \u001b[0manimal\u001b[0m \u001b[0;34m=\u001b[0m \u001b[0mTRUE\u001b[0m\u001b[0;34m\u001b[0m\u001b[0;34m\u001b[0m\u001b[0m\n\u001b[0m\u001b[1;32m      5\u001b[0m     \u001b[0;32mdef\u001b[0m \u001b[0m__init__\u001b[0m\u001b[0;34m(\u001b[0m\u001b[0mself\u001b[0m\u001b[0;34m)\u001b[0m\u001b[0;34m:\u001b[0m\u001b[0;34m\u001b[0m\u001b[0;34m\u001b[0m\u001b[0m\n\u001b[1;32m      6\u001b[0m         \u001b[0mself\u001b[0m\u001b[0;34m.\u001b[0m\u001b[0manimal_group\u001b[0m \u001b[0;34m=\u001b[0m \u001b[0;34m'Bird'\u001b[0m\u001b[0;34m\u001b[0m\u001b[0;34m\u001b[0m\u001b[0m\n",
            "\u001b[0;31mNameError\u001b[0m: name 'TRUE' is not defined"
          ]
        }
      ]
    },
    {
      "cell_type": "markdown",
      "metadata": {
        "id": "3544ZsP1fhpE"
      },
      "source": [
        "Static Variable : A variable that is decalred outside a method or constructor of a class is called static variable."
      ]
    },
    {
      "cell_type": "markdown",
      "metadata": {
        "id": "WMYgbOKx0ezL"
      },
      "source": [
        "## 2. Problem "
      ]
    },
    {
      "cell_type": "code",
      "metadata": {
        "colab": {
          "base_uri": "https://localhost:8080/"
        },
        "id": "KCBCw3Ir0jQj",
        "outputId": "53a9fd27-3ca7-4926-dbc7-eedecfe482ca"
      },
      "source": [
        "#fill in the blank\n",
        "\n",
        "class Wolf:\n",
        "    def __init__(self):\n",
        "    \tself.sound = 'Welcome'   \n",
        "    def MakeSound(self):\n",
        "    \treturn self.sound\n",
        "wolf_obj = Wolf()\n",
        "print(wolf_obj.MakeSound())\n",
        "\n",
        "#output is welcome"
      ],
      "execution_count": 1,
      "outputs": [
        {
          "output_type": "stream",
          "name": "stdout",
          "text": [
            "Welcome\n"
          ]
        }
      ]
    },
    {
      "cell_type": "code",
      "metadata": {
        "colab": {
          "base_uri": "https://localhost:8080/"
        },
        "id": "U1GkBK7U3t1m",
        "outputId": "5bf137ae-7c2d-41b3-fb70-9e1f887f0cac"
      },
      "source": [
        "#3. Problem . What is the output?\n",
        "\n",
        "class Cat:\n",
        "    def __init__(self):\n",
        "    \tprint('Cat object: Meow!')\n",
        "cat_obj = Cat()"
      ],
      "execution_count": null,
      "outputs": [
        {
          "output_type": "stream",
          "name": "stdout",
          "text": [
            "Cat object: Meow!\n"
          ]
        }
      ]
    },
    {
      "cell_type": "code",
      "metadata": {
        "colab": {
          "base_uri": "https://localhost:8080/"
        },
        "id": "AgPQP8od4l21",
        "outputId": "a5ea9961-94b0-4dac-caf6-79deb24d6faa"
      },
      "source": [
        "#4. Fill in the blanks\n",
        "# what is the output ?\n",
        "import numpy as np\n",
        "\n",
        "class MaxVal:\n",
        "  def __init__(self, array_1):\n",
        "    self.A = array_1  \n",
        "  def MaximumValue(self):\n",
        "    \"\"\"Returns the maximum \n",
        "    value of an array.\"\"\"\n",
        "    return np.amax(self.A)\n",
        "op_obj = MaxVal(np.array([8, 9, 8]))\n",
        "print(op_obj.MaximumValue())"
      ],
      "execution_count": null,
      "outputs": [
        {
          "output_type": "stream",
          "name": "stdout",
          "text": [
            "9\n"
          ]
        }
      ]
    },
    {
      "cell_type": "code",
      "metadata": {
        "colab": {
          "base_uri": "https://localhost:8080/"
        },
        "id": "bIEeaiJf8CiO",
        "outputId": "699d8fee-5cc1-4fd1-d9a1-a8e852a61e5b"
      },
      "source": [
        "#5.Problem \n",
        "# Select teh best choice  - getAnimalGroup(animal),getAnimalGroup(Fish),getAnimalGroup(self) \n",
        "\n",
        "class Shark:\n",
        "    def __init__(self):\n",
        "    \tself.animal_group = 'Fish'\n",
        "    def getAnimalGroup(self):\n",
        "    \treturn self.animal_group\n",
        "shark = Shark()\n",
        "print(\"Group:\",shark.getAnimalGroup())"
      ],
      "execution_count": 3,
      "outputs": [
        {
          "output_type": "stream",
          "name": "stdout",
          "text": [
            "Group: Fish\n"
          ]
        }
      ]
    },
    {
      "cell_type": "code",
      "metadata": {
        "id": "iTo6p27n-AVA"
      },
      "source": [
        "#6. Problem \n",
        "class Lion:\n",
        "    def ?(self):\n",
        "      self.animal_group = 'Mammal'\n",
        "      self.sound = 'Roar!!!'     \n",
        "    def MakeSound(self):\n",
        "      print(self.sound)    \n",
        "lion_object =  Lion()\n",
        "lion_object = lion_object.MakeSound()"
      ],
      "execution_count": null,
      "outputs": []
    },
    {
      "cell_type": "code",
      "metadata": {
        "id": "kNsQj3HH-bDz"
      },
      "source": [
        "#7. \"Class Variables are usually referred as ...while Class Functions are usually referred as...\""
      ],
      "execution_count": null,
      "outputs": []
    },
    {
      "cell_type": "code",
      "metadata": {
        "id": "Bk4sANZB1jpJ"
      },
      "source": [
        "#8. Which of the following is NOT an Object in Python?\n",
        "\n",
        "#List,Data Frames, Variable, Everything is an object in python"
      ],
      "execution_count": null,
      "outputs": []
    },
    {
      "cell_type": "code",
      "metadata": {
        "colab": {
          "base_uri": "https://localhost:8080/",
          "height": 230
        },
        "id": "5ND6gYW3AYB6",
        "outputId": "d88f53ee-a07f-4b00-f078-4753275cee09"
      },
      "source": [
        "#9. Fill in the blanks and complete the code\n",
        "import pandas as pd\n",
        "\n",
        "class DataShell:\n",
        "\n",
        "    def __init__(self, inputFile):\n",
        "        self.file = inputFile\n",
        "        self.df = None \n",
        "\n",
        "    def store_df_from_csv(self):    \n",
        "       df  = pd.read_csv(self.file)\n",
        "data_shell = DataShell(filepath)\n",
        "data_shell.store_df_from_csv()\n",
        "data_shell.df.head(3)"
      ],
      "execution_count": null,
      "outputs": [
        {
          "output_type": "error",
          "ename": "NameError",
          "evalue": "ignored",
          "traceback": [
            "\u001b[0;31m---------------------------------------------------------------------------\u001b[0m",
            "\u001b[0;31mNameError\u001b[0m                                 Traceback (most recent call last)",
            "\u001b[0;32m<ipython-input-14-cd849e744e9c>\u001b[0m in \u001b[0;36m<module>\u001b[0;34m()\u001b[0m\n\u001b[1;32m     10\u001b[0m     \u001b[0;32mdef\u001b[0m \u001b[0mstore_df_from_csv\u001b[0m\u001b[0;34m(\u001b[0m\u001b[0mself\u001b[0m\u001b[0;34m)\u001b[0m\u001b[0;34m:\u001b[0m\u001b[0;34m\u001b[0m\u001b[0;34m\u001b[0m\u001b[0m\n\u001b[1;32m     11\u001b[0m        \u001b[0mdf\u001b[0m  \u001b[0;34m=\u001b[0m \u001b[0mpd\u001b[0m\u001b[0;34m.\u001b[0m\u001b[0mread_csv\u001b[0m\u001b[0;34m(\u001b[0m\u001b[0mself\u001b[0m\u001b[0;34m.\u001b[0m\u001b[0mfile\u001b[0m\u001b[0;34m)\u001b[0m\u001b[0;34m\u001b[0m\u001b[0;34m\u001b[0m\u001b[0m\n\u001b[0;32m---> 12\u001b[0;31m \u001b[0mdata_shell\u001b[0m \u001b[0;34m=\u001b[0m \u001b[0mDataShell\u001b[0m\u001b[0;34m(\u001b[0m\u001b[0mfilepath\u001b[0m\u001b[0;34m)\u001b[0m\u001b[0;34m\u001b[0m\u001b[0;34m\u001b[0m\u001b[0m\n\u001b[0m\u001b[1;32m     13\u001b[0m \u001b[0mdata_shell\u001b[0m\u001b[0;34m.\u001b[0m\u001b[0mstore_df_from_csv\u001b[0m\u001b[0;34m(\u001b[0m\u001b[0;34m)\u001b[0m\u001b[0;34m\u001b[0m\u001b[0;34m\u001b[0m\u001b[0m\n\u001b[1;32m     14\u001b[0m \u001b[0mdata_shell\u001b[0m\u001b[0;34m.\u001b[0m\u001b[0mdf\u001b[0m\u001b[0;34m.\u001b[0m\u001b[0mhead\u001b[0m\u001b[0;34m(\u001b[0m\u001b[0;36m3\u001b[0m\u001b[0;34m)\u001b[0m\u001b[0;34m\u001b[0m\u001b[0;34m\u001b[0m\u001b[0m\n",
            "\u001b[0;31mNameError\u001b[0m: name 'filepath' is not defined"
          ]
        }
      ]
    },
    {
      "cell_type": "code",
      "metadata": {
        "id": "nbW-KRdlA763"
      },
      "source": [
        "# 10.  "
      ],
      "execution_count": null,
      "outputs": []
    },
    {
      "cell_type": "markdown",
      "metadata": {
        "id": "A2J9-es6A-ix"
      },
      "source": [
        "#### Given an object is created using the constructor of a certain class, we can say that:\n",
        "\n",
        "1. Object is an instance of a Class\n",
        "2. Object is a method of a Class\n",
        "3. Class is an instance of an Object\n",
        "4. Object is attribute of a Class"
      ]
    },
    {
      "cell_type": "markdown",
      "metadata": {
        "id": "xMSmmynady6X"
      },
      "source": [
        "1. Object is an instance of a class"
      ]
    },
    {
      "cell_type": "code",
      "metadata": {
        "id": "z-tmCDOPBxME",
        "outputId": "da022715-215b-4b73-b507-ed500c1b55cd",
        "colab": {
          "base_uri": "https://localhost:8080/",
          "height": 212
        }
      },
      "source": [
        "# Complete the Code \n",
        "'''\n",
        "array([[1., 0., 0., ..., 0., 1., 1.],\n",
        "       [1., 0., 0., ..., 0., 1., 1.],\n",
        "       [0., 0., 1., ..., 0., 0., 4.],\n",
        "       ...,\n",
        "       [1., 0., 0., ..., 0., 1., 1.],\n",
        "       [0., 0., 1., ..., 0., 0., 7.],\n",
        "       [0., 1., 1., ..., 0., 0., 2.]])\n",
        "'''\n",
        "\n",
        "class DataShell:\n",
        "    def __init__(self, filename):\n",
        "        self.file = filename\n",
        "    def create_datashell(self):\n",
        "        self.array = np.array[1:,1:]\n",
        "        return self.array\n",
        "      \n",
        "data_obj = DataShell(filepath)\n",
        "data_obj.create_datashell()"
      ],
      "execution_count": 13,
      "outputs": [
        {
          "output_type": "error",
          "ename": "NameError",
          "evalue": "ignored",
          "traceback": [
            "\u001b[0;31m---------------------------------------------------------------------------\u001b[0m",
            "\u001b[0;31mNameError\u001b[0m                                 Traceback (most recent call last)",
            "\u001b[0;32m<ipython-input-13-cce3d925ca2d>\u001b[0m in \u001b[0;36m<module>\u001b[0;34m()\u001b[0m\n\u001b[1;32m     17\u001b[0m         \u001b[0;32mreturn\u001b[0m \u001b[0mself\u001b[0m\u001b[0;34m.\u001b[0m\u001b[0marray\u001b[0m\u001b[0;34m\u001b[0m\u001b[0;34m\u001b[0m\u001b[0m\n\u001b[1;32m     18\u001b[0m \u001b[0;34m\u001b[0m\u001b[0m\n\u001b[0;32m---> 19\u001b[0;31m \u001b[0mdata_obj\u001b[0m \u001b[0;34m=\u001b[0m \u001b[0mDataShell\u001b[0m\u001b[0;34m(\u001b[0m\u001b[0mfilepath\u001b[0m\u001b[0;34m)\u001b[0m\u001b[0;34m\u001b[0m\u001b[0;34m\u001b[0m\u001b[0m\n\u001b[0m\u001b[1;32m     20\u001b[0m \u001b[0mdata_obj\u001b[0m\u001b[0;34m.\u001b[0m\u001b[0mcreate_datashell\u001b[0m\u001b[0;34m(\u001b[0m\u001b[0;34m)\u001b[0m\u001b[0;34m\u001b[0m\u001b[0;34m\u001b[0m\u001b[0m\n",
            "\u001b[0;31mNameError\u001b[0m: name 'filepath' is not defined"
          ]
        }
      ]
    },
    {
      "cell_type": "code",
      "metadata": {
        "id": "Js_dsNJTAr_p"
      },
      "source": [
        ""
      ],
      "execution_count": null,
      "outputs": []
    },
    {
      "cell_type": "code",
      "metadata": {
        "id": "7gk73G1CD2wW"
      },
      "source": [
        "#Complete the code\n",
        "# Select - self, Vertebrate, Mammal, __init__\n",
        "\n",
        "class Vertebrate:\n",
        "    spinal_cord = True\n",
        "    def __init__(self, name):\n",
        "        self.name = name\n",
        "        \n",
        "class Mammal(Vertebrate):\n",
        "    def __init__(self, name):\n",
        "        self.name = name\n",
        "        self.can_lay_egg = False"
      ],
      "execution_count": 5,
      "outputs": []
    },
    {
      "cell_type": "code",
      "metadata": {
        "id": "GS7NX77yEmz1",
        "outputId": "ad102e28-645a-4eef-9587-a0cb88004b0f",
        "colab": {
          "base_uri": "https://localhost:8080/"
        }
      },
      "source": [
        "# Complete the Code \n",
        "class ListClass:\n",
        "  \n",
        "  def __init__(self,l1):\n",
        "    self.new_list = l1\n",
        "    print('List Object Created')\n",
        "    \n",
        "# Instantiate the Class\n",
        "list_object = ListClass(([4, 8, 0]))"
      ],
      "execution_count": 6,
      "outputs": [
        {
          "output_type": "stream",
          "name": "stdout",
          "text": [
            "List Object Created\n"
          ]
        }
      ]
    },
    {
      "cell_type": "code",
      "metadata": {
        "colab": {
          "base_uri": "https://localhost:8080/"
        },
        "id": "7mvLxsOnFD5D",
        "outputId": "55d6977b-67ff-4379-f33a-e4d79a9d4ffb"
      },
      "source": [
        "# what is the output?\n",
        "def concatA(a,b):\n",
        "  return a + b\n",
        "\n",
        "print(concatA([9, 2, 1],[4, 8, 7]))\n"
      ],
      "execution_count": null,
      "outputs": [
        {
          "output_type": "stream",
          "name": "stdout",
          "text": [
            "[9, 2, 1, 4, 8, 7]\n"
          ]
        }
      ]
    },
    {
      "cell_type": "markdown",
      "metadata": {
        "id": "wBwJ_MqRFeuL"
      },
      "source": [
        "## A class that takes elements of other classes to create a more complex class is called ------- \n",
        "Ans. Child class"
      ]
    },
    {
      "cell_type": "code",
      "metadata": {
        "id": "CcuwlrmpGR_z",
        "outputId": "0d6fa321-ab66-4923-d3cb-c7bf8bb4ff14",
        "colab": {
          "base_uri": "https://localhost:8080/"
        }
      },
      "source": [
        "# complete the code\n",
        "# output is OOP course : Mandatory for Third Semester\n",
        "\n",
        "\n",
        "class OOP:\n",
        "    def __init__(self, name):\n",
        "      self.name = name      \n",
        "    def result(self):\n",
        "        print(self.name,'Mandatory for Third Semester  ')\n",
        "OOP_ob = OOP('OOP Course :')\n",
        "OOP_ob.result()"
      ],
      "execution_count": 7,
      "outputs": [
        {
          "output_type": "stream",
          "name": "stdout",
          "text": [
            "OOP Course : Mandatory for Third Semester  \n"
          ]
        }
      ]
    },
    {
      "cell_type": "code",
      "metadata": {
        "colab": {
          "base_uri": "https://localhost:8080/"
        },
        "id": "rBJae4o3HMp0",
        "outputId": "233e12d9-a00e-44f5-fcc3-1b97f83df88a"
      },
      "source": [
        "class OOP_class :\n",
        "     def __init__(self, name):\n",
        "          self.name = name \n",
        "     def result(self):\n",
        "         print(self.name,'Mandatory for Third Semester  ')\n",
        "OOP_ob = OOP_class('OOP Course :')\n",
        "OOP_ob.result()"
      ],
      "execution_count": null,
      "outputs": [
        {
          "output_type": "stream",
          "name": "stdout",
          "text": [
            "OOP Course : Mandatory for Third Semester  \n"
          ]
        }
      ]
    },
    {
      "cell_type": "code",
      "metadata": {
        "id": "LtCWjph4ECQ_"
      },
      "source": [
        ""
      ],
      "execution_count": null,
      "outputs": []
    },
    {
      "cell_type": "code",
      "metadata": {
        "id": "mvZwbknzJUkQ",
        "outputId": "34cf59fc-3433-469f-d7c7-f62cc62b34b6",
        "colab": {
          "base_uri": "https://localhost:8080/"
        }
      },
      "source": [
        "# Complete the Code :\n",
        "# output:    The Bear is angry: Roar\n",
        "\n",
        "class Bear: \n",
        "    def __init__(self):\n",
        "        self.animal_group = 'Mammal'\n",
        "        self.sound = 'Roar!!!'    \n",
        "    def getGroup(self):\n",
        "        return self.animal_group\n",
        "    def getSound(self):\n",
        "        return self.sound\n",
        "      \n",
        "bear_obj = Bear()\n",
        "print(\"The Bear is angry:\", bear_obj.getSound())"
      ],
      "execution_count": 8,
      "outputs": [
        {
          "output_type": "stream",
          "name": "stdout",
          "text": [
            "The Bear is angry: Roar!!!\n"
          ]
        }
      ]
    },
    {
      "cell_type": "code",
      "metadata": {
        "colab": {
          "base_uri": "https://localhost:8080/"
        },
        "id": "i9csw1DCKpx4",
        "outputId": "bc747388-abd6-4913-ad4a-f1a8d7399213"
      },
      "source": [
        "## Complete the Code\n",
        "# Outout :    We are OOP Classmates\n",
        "\n",
        "class SimpleClass:\n",
        "\tprint('We are OOP Classmates')\n",
        "\tpass\n",
        "\n",
        "# Create an object with SimpleClass\n",
        "simple_object =  SimpleClass()"
      ],
      "execution_count": 9,
      "outputs": [
        {
          "output_type": "stream",
          "name": "stdout",
          "text": [
            "We are OOP Classmates\n"
          ]
        }
      ]
    },
    {
      "cell_type": "code",
      "metadata": {
        "id": "IrtrXLy-K94G"
      },
      "source": [
        ""
      ],
      "execution_count": null,
      "outputs": []
    },
    {
      "cell_type": "code",
      "metadata": {
        "id": "C8fZutpgLj2b",
        "outputId": "b27bfaa3-17a1-4b9f-90d6-049d7bd1922a",
        "colab": {
          "base_uri": "https://localhost:8080/"
        }
      },
      "source": [
        "## Complete the code\n",
        "#Output : Croak!!!\n",
        "\n",
        "class Frog:\n",
        "    def __init__(self):\n",
        "      self.AnimalGroup = 'Amphibian'\n",
        "      self.Sound = 'Croak!!!' \n",
        "    def MakeSound(self):\n",
        "      print(self.Sound)\n",
        "frog_object =  Frog()\n",
        "frog_object = frog_object.MakeSound()"
      ],
      "execution_count": 10,
      "outputs": [
        {
          "output_type": "stream",
          "name": "stdout",
          "text": [
            "Croak!!!\n"
          ]
        }
      ]
    },
    {
      "cell_type": "code",
      "metadata": {
        "id": "vJpBRvveNTLF"
      },
      "source": [
        "# Complete the code\n",
        "# Output : \n",
        "\n",
        "class Mammal(Vertebrate):\n",
        "    def __init__(self, name, kind):\n",
        "        self.animal_type = kind\n",
        "        self.can_lay_egg = False\n",
        "class Bird(Vertebrate):\n",
        "    def __init__(self, name, kind):\n",
        "        self.animal_type = kind\n",
        "        self.can_lay_egg = True"
      ],
      "execution_count": 12,
      "outputs": []
    }
  ]
}